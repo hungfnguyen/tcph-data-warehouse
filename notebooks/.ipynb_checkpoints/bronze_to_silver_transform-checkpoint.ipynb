{
 "cells": [
  {
   "cell_type": "markdown",
   "id": "b487c2c6-c18b-4b57-af03-5d586c7e03b3",
   "metadata": {},
   "source": [
    "## **Import và Setup Spark**"
   ]
  },
  {
   "cell_type": "code",
   "execution_count": 1,
   "id": "9e599186-a5a6-40fc-b082-c68a98b53219",
   "metadata": {},
   "outputs": [],
   "source": [
    "from pyspark.sql import SparkSession\n",
    "from pyspark.sql.functions import col, trim, when, year, quarter\n",
    "\n",
    "# Create Spark session (copy từ cell trước)\n",
    "spark = SparkSession.builder \\\n",
    "    .appName(\"Bronze-to-Silver-Transform\") \\\n",
    "    .master(\"spark://spark-master:7077\") \\\n",
    "    .config(\"spark.cores.max\", \"2\") \\\n",
    "    .config(\"spark.hadoop.fs.s3a.endpoint\", \"http://minio:9000\") \\\n",
    "    .config(\"spark.hadoop.fs.s3a.access.key\", \"minioadmin\") \\\n",
    "    .config(\"spark.hadoop.fs.s3a.secret.key\", \"minioadmin123\") \\\n",
    "    .config(\"spark.hadoop.fs.s3a.path.style.access\", \"true\") \\\n",
    "    .config(\"spark.hadoop.fs.s3a.impl\", \"org.apache.hadoop.fs.s3a.S3AFileSystem\") \\\n",
    "    .getOrCreate()"
   ]
  },
  {
   "cell_type": "markdown",
   "id": "26d117f1-a597-4cf5-8f7d-d20bf604b2fe",
   "metadata": {},
   "source": [
    "## **Test CustomerTransformer**"
   ]
  },
  {
   "cell_type": "code",
   "execution_count": 2,
   "id": "c19611a8-5849-4cd3-ad31-0e8cd8335de1",
   "metadata": {},
   "outputs": [
    {
     "name": "stdout",
     "output_type": "stream",
     "text": [
      "Bronze Customer: 150000 rows\n",
      "+---------+------------------+--------------------+-----------+---------------+---------+------------+--------------------+\n",
      "|c_custkey|            c_name|           c_address|c_nationkey|        c_phone|c_acctbal|c_mktsegment|           c_comment|\n",
      "+---------+------------------+--------------------+-----------+---------------+---------+------------+--------------------+\n",
      "|        1|Customer#000000001|   IVhzIApeRb ot,c,E|         15|25-989-741-2988|   711.56|    BUILDING|to the even, regu...|\n",
      "|        2|Customer#000000002|XSTf4,NCwDVaWNe6t...|         13|23-768-687-3665|   121.65|  AUTOMOBILE|l accounts. blith...|\n",
      "|        3|Customer#000000003|        MG9kdTD2WBHm|          1|11-719-748-3364|  7498.12|  AUTOMOBILE| deposits eat sly...|\n",
      "+---------+------------------+--------------------+-----------+---------------+---------+------------+--------------------+\n",
      "only showing top 3 rows\n",
      "\n",
      "After transform:\n",
      "+---------+------------------+--------------------+-----------+---------------+---------+------------+--------------------+----------------+\n",
      "|c_custkey|            c_name|           c_address|c_nationkey|        c_phone|c_acctbal|c_mktsegment|           c_comment|c_acctbal_status|\n",
      "+---------+------------------+--------------------+-----------+---------------+---------+------------+--------------------+----------------+\n",
      "|        1|Customer#000000001|   IVhzIApeRb ot,c,E|         15|25-989-741-2988|   711.56|    BUILDING|to the even, regu...|        POSITIVE|\n",
      "|        2|Customer#000000002|XSTf4,NCwDVaWNe6t...|         13|23-768-687-3665|   121.65|  AUTOMOBILE|l accounts. blith...|        POSITIVE|\n",
      "|        3|Customer#000000003|        MG9kdTD2WBHm|          1|11-719-748-3364|  7498.12|  AUTOMOBILE| deposits eat sly...|        POSITIVE|\n",
      "+---------+------------------+--------------------+-----------+---------------+---------+------------+--------------------+----------------+\n",
      "only showing top 3 rows\n",
      "\n",
      "Customer transform completed!\n"
     ]
    }
   ],
   "source": [
    "# Read Bronze Customer\n",
    "df_customer = spark.read.parquet(\"s3a://bronze/customer/\")\n",
    "print(f\"Bronze Customer: {df_customer.count()} rows\")\n",
    "df_customer.show(3)\n",
    "\n",
    "# Transform\n",
    "df_customer_clean = df_customer \\\n",
    "    .withColumn(\"c_name\", trim(col(\"c_name\"))) \\\n",
    "    .withColumn(\"c_address\", trim(col(\"c_address\"))) \\\n",
    "    .withColumn(\"c_acctbal_status\", \n",
    "        when(col(\"c_acctbal\") < 0, \"NEGATIVE\").otherwise(\"POSITIVE\"))\n",
    "\n",
    "print(\"After transform:\")\n",
    "df_customer_clean.show(3)\n",
    "\n",
    "# Write Silver\n",
    "df_customer_clean.coalesce(1).write.mode(\"overwrite\").parquet(\"s3a://silver/customer.parquet\")\n",
    "print(\"Customer transform completed!\")"
   ]
  },
  {
   "cell_type": "markdown",
   "id": "326fd133-1b58-4fe1-af6d-a65a25bf4a59",
   "metadata": {},
   "source": [
    "## **Test LineitemTransformer** "
   ]
  },
  {
   "cell_type": "code",
   "execution_count": 3,
   "id": "243abb83-d7d6-4306-8651-38033439e7fa",
   "metadata": {},
   "outputs": [
    {
     "name": "stdout",
     "output_type": "stream",
     "text": [
      "Bronze Lineitem: 6001215 rows\n",
      "After transform: 6001215 rows\n",
      "+----------+------------------+-----------+\n",
      "|l_orderkey|       l_net_price|l_ship_year|\n",
      "+----------+------------------+-----------+\n",
      "|         1|20321.500799999998|       1996|\n",
      "|         1|        41844.6756|       1996|\n",
      "|         1|11978.640000000001|       1996|\n",
      "+----------+------------------+-----------+\n",
      "only showing top 3 rows\n",
      "\n",
      "Lineitem transform completed!\n"
     ]
    }
   ],
   "source": [
    "# Read Bronze Lineitem\n",
    "df_lineitem = spark.read.parquet(\"s3a://bronze/lineitem/\")\n",
    "print(f\"Bronze Lineitem: {df_lineitem.count()} rows\")\n",
    "\n",
    "# Transform\n",
    "df_lineitem_clean = df_lineitem \\\n",
    "    .withColumn(\"l_returnflag\", trim(col(\"l_returnflag\"))) \\\n",
    "    .withColumn(\"l_net_price\", col(\"l_extendedprice\") * (1 - col(\"l_discount\"))) \\\n",
    "    .withColumn(\"l_ship_year\", year(col(\"l_shipdate\"))) \\\n",
    "    .filter(col(\"l_quantity\") > 0)\n",
    "\n",
    "print(f\"After transform: {df_lineitem_clean.count()} rows\")\n",
    "df_lineitem_clean.select(\"l_orderkey\", \"l_net_price\", \"l_ship_year\").show(3)\n",
    "\n",
    "# Write Silver\n",
    "df_lineitem_clean.coalesce(1).write.mode(\"overwrite\").parquet(\"s3a://silver/lineitem.parquet\")\n",
    "print(\"Lineitem transform completed!\")"
   ]
  },
  {
   "cell_type": "markdown",
   "id": "f459bbd6-4dea-4edb-83e6-7efbdf7c576a",
   "metadata": {},
   "source": [
    "## **Verify Silver Data**"
   ]
  },
  {
   "cell_type": "code",
   "execution_count": 4,
   "id": "af9d6499-d9bf-4e14-b455-30823b96c9d6",
   "metadata": {},
   "outputs": [
    {
     "name": "stdout",
     "output_type": "stream",
     "text": [
      "Silver Customer: 150000 rows\n",
      "Silver Lineitem: 6001215 rows\n",
      "Sample Silver Customer:\n",
      "+---------+------------------+----------------+\n",
      "|c_custkey|            c_name|c_acctbal_status|\n",
      "+---------+------------------+----------------+\n",
      "|        1|Customer#000000001|        POSITIVE|\n",
      "|        2|Customer#000000002|        POSITIVE|\n",
      "|        3|Customer#000000003|        POSITIVE|\n",
      "+---------+------------------+----------------+\n",
      "only showing top 3 rows\n",
      "\n"
     ]
    }
   ],
   "source": [
    "# Check Silver files\n",
    "silver_customer = spark.read.parquet(\"s3a://silver/customer.parquet\")\n",
    "silver_lineitem = spark.read.parquet(\"s3a://silver/lineitem.parquet\")\n",
    "\n",
    "print(f\"Silver Customer: {silver_customer.count()} rows\")\n",
    "print(f\"Silver Lineitem: {silver_lineitem.count()} rows\")\n",
    "\n",
    "print(\"Sample Silver Customer:\")\n",
    "silver_customer.select(\"c_custkey\", \"c_name\", \"c_acctbal_status\").show(3)"
   ]
  },
  {
   "cell_type": "code",
   "execution_count": null,
   "id": "c2e4f7fe-17db-4852-8b6a-3cc4b8498e8c",
   "metadata": {},
   "outputs": [],
   "source": []
  }
 ],
 "metadata": {
  "kernelspec": {
   "display_name": "Python 3 (ipykernel)",
   "language": "python",
   "name": "python3"
  },
  "language_info": {
   "codemirror_mode": {
    "name": "ipython",
    "version": 3
   },
   "file_extension": ".py",
   "mimetype": "text/x-python",
   "name": "python",
   "nbconvert_exporter": "python",
   "pygments_lexer": "ipython3",
   "version": "3.11.6"
  }
 },
 "nbformat": 4,
 "nbformat_minor": 5
}
