{
 "cells": [
  {
   "cell_type": "code",
   "execution_count": 1,
   "id": "aa8ee790-7eb8-4d57-8836-9e4a21e4acbf",
   "metadata": {},
   "outputs": [],
   "source": [
    "from pyspark.sql import SparkSession\n",
    "import os\n",
    "spark = SparkSession.builder \\\n",
    "    .appName(\"TCPH-Notebook\") \\\n",
    "    .master(\"spark://spark-master:7077\") \\\n",
    "    .config(\"spark.hadoop.fs.s3a.endpoint\", \"http://minio:9000\") \\\n",
    "    .config(\"spark.hadoop.fs.s3a.access.key\", \"minioadmin\") \\\n",
    "    .config(\"spark.hadoop.fs.s3a.secret.key\", \"minioadmin123\") \\\n",
    "    .config(\"spark.hadoop.fs.s3a.path.style.access\", \"true\") \\\n",
    "    .config(\"spark.hadoop.fs.s3a.impl\", \"org.apache.hadoop.fs.s3a.S3AFileSystem\") \\\n",
    "    .getOrCreate()"
   ]
  },
  {
   "cell_type": "code",
   "execution_count": 2,
   "id": "d0d78f3c-7bd6-4a24-8403-2018ae9c43ea",
   "metadata": {},
   "outputs": [
    {
     "data": {
      "text/html": [
       "\n",
       "            <div>\n",
       "                <p><b>SparkSession - in-memory</b></p>\n",
       "                \n",
       "        <div>\n",
       "            <p><b>SparkContext</b></p>\n",
       "\n",
       "            <p><a href=\"http://c1b67d709448:4040\">Spark UI</a></p>\n",
       "\n",
       "            <dl>\n",
       "              <dt>Version</dt>\n",
       "                <dd><code>v3.5.0</code></dd>\n",
       "              <dt>Master</dt>\n",
       "                <dd><code>spark://spark-master:7077</code></dd>\n",
       "              <dt>AppName</dt>\n",
       "                <dd><code>TCPH-Notebook</code></dd>\n",
       "            </dl>\n",
       "        </div>\n",
       "        \n",
       "            </div>\n",
       "        "
      ],
      "text/plain": [
       "<pyspark.sql.session.SparkSession at 0x7a6d7f769a50>"
      ]
     },
     "execution_count": 2,
     "metadata": {},
     "output_type": "execute_result"
    }
   ],
   "source": [
    "spark"
   ]
  },
  {
   "cell_type": "code",
   "execution_count": 3,
   "id": "85a1708c-6fa8-4d8b-b5ba-0ee7f8a73830",
   "metadata": {},
   "outputs": [
    {
     "name": "stdout",
     "output_type": "stream",
     "text": [
      "+-----------+---------+-----------+--------------------+--------------------+---------+------+\n",
      "|n_nationkey|   n_name|n_regionkey|           n_comment|       _extracted_at|  _source|_table|\n",
      "+-----------+---------+-----------+--------------------+--------------------+---------+------+\n",
      "|          0|  ALGERIA|          0| haggle. carefull...|2025-05-30 23:29:...|snowflake|nation|\n",
      "|          1|ARGENTINA|          1|al foxes promise ...|2025-05-30 23:29:...|snowflake|nation|\n",
      "|          2|   BRAZIL|          1|y alongside of th...|2025-05-30 23:29:...|snowflake|nation|\n",
      "|          3|   CANADA|          1|eas hang ironic, ...|2025-05-30 23:29:...|snowflake|nation|\n",
      "|          4|    EGYPT|          4|y above the caref...|2025-05-30 23:29:...|snowflake|nation|\n",
      "+-----------+---------+-----------+--------------------+--------------------+---------+------+\n",
      "only showing top 5 rows\n",
      "\n"
     ]
    }
   ],
   "source": [
    "df_read = spark.read.parquet(\"s3a://bronze/tpch/nation\")\n",
    "df_read.show(5)"
   ]
  },
  {
   "cell_type": "code",
   "execution_count": 7,
   "id": "99b2ce6c-0a4d-485a-b973-a7b24c9a285e",
   "metadata": {},
   "outputs": [
    {
     "data": {
      "text/plain": [
       "'3.3.0'"
      ]
     },
     "execution_count": 7,
     "metadata": {},
     "output_type": "execute_result"
    }
   ],
   "source": [
    "spark.version"
   ]
  },
  {
   "cell_type": "code",
   "execution_count": null,
   "id": "f362f2ec-4e31-480a-a8c7-15ed41c7a52c",
   "metadata": {},
   "outputs": [],
   "source": []
  }
 ],
 "metadata": {
  "kernelspec": {
   "display_name": "Python 3 (ipykernel)",
   "language": "python",
   "name": "python3"
  },
  "language_info": {
   "codemirror_mode": {
    "name": "ipython",
    "version": 3
   },
   "file_extension": ".py",
   "mimetype": "text/x-python",
   "name": "python",
   "nbconvert_exporter": "python",
   "pygments_lexer": "ipython3",
   "version": "3.11.6"
  }
 },
 "nbformat": 4,
 "nbformat_minor": 5
}
