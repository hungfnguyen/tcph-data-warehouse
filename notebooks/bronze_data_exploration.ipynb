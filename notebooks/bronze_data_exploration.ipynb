{
 "cells": [
  {
   "cell_type": "code",
   "execution_count": 1,
   "id": "aa8ee790-7eb8-4d57-8836-9e4a21e4acbf",
   "metadata": {},
   "outputs": [],
   "source": [
    "from pyspark.sql import SparkSession\n",
    "import os\n",
    "# spark = SparkSession.builder \\\n",
    "#     .appName(\"TCPH-Notebook\") \\\n",
    "#     .master(\"spark://spark-master:7077\") \\\n",
    "#     .config(\"spark.hadoop.fs.s3a.endpoint\", \"http://minio:9000\") \\\n",
    "#     .config(\"spark.hadoop.fs.s3a.access.key\", \"minioadmin\") \\\n",
    "#     .config(\"spark.hadoop.fs.s3a.secret.key\", \"minioadmin123\") \\\n",
    "#     .config(\"spark.hadoop.fs.s3a.path.style.access\", \"true\") \\\n",
    "#     .config(\"spark.hadoop.fs.s3a.impl\", \"org.apache.hadoop.fs.s3a.S3AFileSystem\") \\\n",
    "#     .getOrCreate()\n",
    "spark = SparkSession.builder \\\n",
    "        .appName(\"TCPH-Notebook\") \\\n",
    "        .master(\"spark://spark-master:7077\") \\\n",
    "        .config(\"spark.cores.max\", \"2\") \\\n",
    "        .config(\"spark.hadoop.fs.s3a.endpoint\", \"http://minio:9000\") \\\n",
    "        .config(\"spark.hadoop.fs.s3a.access.key\", \"minioadmin\") \\\n",
    "        .config(\"spark.hadoop.fs.s3a.secret.key\", \"minioadmin123\") \\\n",
    "        .config(\"spark.hadoop.fs.s3a.path.style.access\", \"true\") \\\n",
    "        .config(\"spark.hadoop.fs.s3a.impl\", \"org.apache.hadoop.fs.s3a.S3AFileSystem\") \\\n",
    "        .config(\"spark.sql.extensions\", \"io.delta.sql.DeltaSparkSessionExtension\") \\\n",
    "        .config(\"spark.sql.catalog.spark_catalog\", \"org.apache.spark.sql.delta.catalog.DeltaCatalog\") \\\n",
    "        .config(\"spark.sql.adaptive.enabled\", \"true\") \\\n",
    "        .config(\"spark.sql.adaptive.coalescePartitions.enabled\", \"true\") \\\n",
    "        .getOrCreate()"
   ]
  },
  {
   "cell_type": "code",
   "execution_count": 2,
   "id": "d0d78f3c-7bd6-4a24-8403-2018ae9c43ea",
   "metadata": {},
   "outputs": [
    {
     "data": {
      "text/html": [
       "\n",
       "            <div>\n",
       "                <p><b>SparkSession - in-memory</b></p>\n",
       "                \n",
       "        <div>\n",
       "            <p><b>SparkContext</b></p>\n",
       "\n",
       "            <p><a href=\"http://ead14b96ff79:4040\">Spark UI</a></p>\n",
       "\n",
       "            <dl>\n",
       "              <dt>Version</dt>\n",
       "                <dd><code>v3.5.0</code></dd>\n",
       "              <dt>Master</dt>\n",
       "                <dd><code>spark://spark-master:7077</code></dd>\n",
       "              <dt>AppName</dt>\n",
       "                <dd><code>TCPH-Notebook</code></dd>\n",
       "            </dl>\n",
       "        </div>\n",
       "        \n",
       "            </div>\n",
       "        "
      ],
      "text/plain": [
       "<pyspark.sql.session.SparkSession at 0x705a2d35aed0>"
      ]
     },
     "execution_count": 2,
     "metadata": {},
     "output_type": "execute_result"
    }
   ],
   "source": [
    "spark"
   ]
  },
  {
   "cell_type": "code",
   "execution_count": 5,
   "id": "85a1708c-6fa8-4d8b-b5ba-0ee7f8a73830",
   "metadata": {},
   "outputs": [
    {
     "name": "stdout",
     "output_type": "stream",
     "text": [
      "+---------+------------------+--------------------+-----------+---------------+---------+------------+--------------------+\n",
      "|c_custkey|            c_name|           c_address|c_nationkey|        c_phone|c_acctbal|c_mktsegment|           c_comment|\n",
      "+---------+------------------+--------------------+-----------+---------------+---------+------------+--------------------+\n",
      "|        1|Customer#000000001|   IVhzIApeRb ot,c,E|         15|25-989-741-2988|   711.56|    BUILDING|to the even, regu...|\n",
      "|        2|Customer#000000002|XSTf4,NCwDVaWNe6t...|         13|23-768-687-3665|   121.65|  AUTOMOBILE|l accounts. blith...|\n",
      "|        3|Customer#000000003|        MG9kdTD2WBHm|          1|11-719-748-3364|  7498.12|  AUTOMOBILE| deposits eat sly...|\n",
      "|        4|Customer#000000004|         XxVSJsLAGtn|          4|14-128-190-5944|  2866.83|   MACHINERY| requests. final,...|\n",
      "|        5|Customer#000000005|KvpyuHCplrB84WgAi...|          3|13-750-942-6364|   794.47|   HOUSEHOLD|n accounts will h...|\n",
      "+---------+------------------+--------------------+-----------+---------------+---------+------------+--------------------+\n",
      "only showing top 5 rows\n",
      "\n"
     ]
    }
   ],
   "source": [
    "df_read = spark.read.parquet(\"s3a://bronze/customer\")\n",
    "df_read.show(5)"
   ]
  },
  {
   "cell_type": "code",
   "execution_count": 3,
   "id": "99b2ce6c-0a4d-485a-b973-a7b24c9a285e",
   "metadata": {},
   "outputs": [
    {
     "data": {
      "text/plain": [
       "'3.5.0'"
      ]
     },
     "execution_count": 3,
     "metadata": {},
     "output_type": "execute_result"
    }
   ],
   "source": [
    "spark.version"
   ]
  },
  {
   "cell_type": "code",
   "execution_count": 6,
   "id": "f362f2ec-4e31-480a-a8c7-15ed41c7a52c",
   "metadata": {},
   "outputs": [
    {
     "name": "stdout",
     "output_type": "stream",
     "text": [
      "nation: 25 rows, 1 partitions\n",
      "region: 5 rows, 1 partitions\n",
      "customer: 150,000 rows, 2 partitions\n",
      "orders: 1,500,000 rows, 2 partitions\n",
      "lineitem: 2,000,000 rows, 2 partitions\n",
      "part: 200,000 rows, 2 partitions\n",
      "partsupp: 800,000 rows, 2 partitions\n",
      "supplier: 10,000 rows, 1 partitions\n"
     ]
    }
   ],
   "source": [
    "# List all tables\n",
    "tables = ['nation', 'region', 'customer', 'orders', 'lineitem', 'part', 'partsupp', 'supplier']\n",
    "\n",
    "# Check size và row count\n",
    "for table in tables:\n",
    "    df = spark.read.parquet(f\"s3a://bronze/{table}\")\n",
    "    print(f\"{table}: {df.count():,} rows, {df.rdd.getNumPartitions()} partitions\")"
   ]
  },
  {
   "cell_type": "code",
   "execution_count": 8,
   "id": "34e04e69-cd5f-436e-a99c-79a3dfa6c04c",
   "metadata": {},
   "outputs": [
    {
     "name": "stdout",
     "output_type": "stream",
     "text": [
      "root\n",
      " |-- n_nationkey: long (nullable = true)\n",
      " |-- n_name: string (nullable = true)\n",
      " |-- n_regionkey: long (nullable = true)\n",
      " |-- n_comment: string (nullable = true)\n",
      "\n",
      "root\n",
      " |-- r_regionkey: long (nullable = true)\n",
      " |-- r_name: string (nullable = true)\n",
      " |-- r_comment: string (nullable = true)\n",
      "\n",
      "root\n",
      " |-- c_custkey: long (nullable = true)\n",
      " |-- c_name: string (nullable = true)\n",
      " |-- c_address: string (nullable = true)\n",
      " |-- c_nationkey: long (nullable = true)\n",
      " |-- c_phone: string (nullable = true)\n",
      " |-- c_acctbal: double (nullable = true)\n",
      " |-- c_mktsegment: string (nullable = true)\n",
      " |-- c_comment: string (nullable = true)\n",
      "\n",
      "root\n",
      " |-- o_orderkey: long (nullable = true)\n",
      " |-- o_custkey: long (nullable = true)\n",
      " |-- o_orderstatus: string (nullable = true)\n",
      " |-- o_totalprice: double (nullable = true)\n",
      " |-- o_orderdate: date (nullable = true)\n",
      " |-- o_orderpriority: string (nullable = true)\n",
      " |-- o_clerk: string (nullable = true)\n",
      " |-- o_shippriority: long (nullable = true)\n",
      " |-- o_comment: string (nullable = true)\n",
      "\n",
      "root\n",
      " |-- l_orderkey: long (nullable = true)\n",
      " |-- l_partkey: long (nullable = true)\n",
      " |-- l_suppkey: long (nullable = true)\n",
      " |-- l_linenumber: long (nullable = true)\n",
      " |-- l_quantity: double (nullable = true)\n",
      " |-- l_extendedprice: double (nullable = true)\n",
      " |-- l_discount: double (nullable = true)\n",
      " |-- l_tax: double (nullable = true)\n",
      " |-- l_returnflag: string (nullable = true)\n",
      " |-- l_linestatus: string (nullable = true)\n",
      " |-- l_shipdate: date (nullable = true)\n",
      " |-- l_commitdate: date (nullable = true)\n",
      " |-- l_receiptdate: date (nullable = true)\n",
      " |-- l_shipinstruct: string (nullable = true)\n",
      " |-- l_shipmode: string (nullable = true)\n",
      " |-- l_comment: string (nullable = true)\n",
      "\n",
      "root\n",
      " |-- p_partkey: long (nullable = true)\n",
      " |-- p_name: string (nullable = true)\n",
      " |-- p_mfgr: string (nullable = true)\n",
      " |-- p_brand: string (nullable = true)\n",
      " |-- p_type: string (nullable = true)\n",
      " |-- p_size: long (nullable = true)\n",
      " |-- p_container: string (nullable = true)\n",
      " |-- p_retailprice: double (nullable = true)\n",
      " |-- p_comment: string (nullable = true)\n",
      "\n",
      "root\n",
      " |-- ps_partkey: long (nullable = true)\n",
      " |-- ps_suppkey: long (nullable = true)\n",
      " |-- ps_availqty: long (nullable = true)\n",
      " |-- ps_supplycost: double (nullable = true)\n",
      " |-- ps_comment: string (nullable = true)\n",
      "\n",
      "root\n",
      " |-- s_suppkey: long (nullable = true)\n",
      " |-- s_name: string (nullable = true)\n",
      " |-- s_address: string (nullable = true)\n",
      " |-- s_nationkey: long (nullable = true)\n",
      " |-- s_phone: string (nullable = true)\n",
      " |-- s_acctbal: double (nullable = true)\n",
      " |-- s_comment: string (nullable = true)\n",
      "\n"
     ]
    }
   ],
   "source": [
    "for table in tables:\n",
    "    df = spark.read.parquet(f\"s3a://bronze/{table}\")\n",
    "    # Schema validation\n",
    "    df.printSchema()\n",
    "    df.dtypes"
   ]
  },
  {
   "cell_type": "code",
   "execution_count": 9,
   "id": "7129c1d4-fcac-4f3a-a86a-7281272386ce",
   "metadata": {},
   "outputs": [
    {
     "name": "stdout",
     "output_type": "stream",
     "text": [
      "+-------+-----------------+------------------+--------------------+-----------------+---------------+-----------------+--------------------+\n",
      "|summary|        s_suppkey|            s_name|           s_address|      s_nationkey|        s_phone|        s_acctbal|           s_comment|\n",
      "+-------+-----------------+------------------+--------------------+-----------------+---------------+-----------------+--------------------+\n",
      "|  count|            10000|             10000|               10000|            10000|          10000|            10000|               10000|\n",
      "|   mean|           5000.5|              NULL|                NULL|          11.9353|           NULL|4510.354864999992|                NULL|\n",
      "| stddev|2886.895679907165|              NULL|                NULL|7.240756643174559|           NULL|3168.079218448369|                NULL|\n",
      "|    min|                1|Supplier#000000001|  9aW1wwnBJJPnCx,...|                0|10-102-116-6785|          -998.22| about the blithe...|\n",
      "|    max|            10000|Supplier#000010000|zzfDhdtZcvmVzA8rN...|               24|34-998-900-4911|          9999.72|zzle furiously. b...|\n",
      "+-------+-----------------+------------------+--------------------+-----------------+---------------+-----------------+--------------------+\n",
      "\n",
      "s_suppkey: 10000 distinct values\n",
      "s_name: 10000 distinct values\n",
      "s_address: 10000 distinct values\n",
      "s_nationkey: 25 distinct values\n",
      "s_phone: 10000 distinct values\n",
      "s_acctbal: 9955 distinct values\n",
      "s_comment: 10000 distinct values\n"
     ]
    }
   ],
   "source": [
    "# Numeric columns statistics\n",
    "df.describe().show()\n",
    "\n",
    "# Cardinality check\n",
    "for col in df.columns:\n",
    "    distinct_count = df.select(col).distinct().count()\n",
    "    print(f\"{col}: {distinct_count} distinct values\")"
   ]
  },
  {
   "cell_type": "code",
   "execution_count": 10,
   "id": "0f205cba-1f09-40b2-abec-bc099c8655fd",
   "metadata": {},
   "outputs": [
    {
     "name": "stdout",
     "output_type": "stream",
     "text": [
      "\n",
      "NATION (25 rows):\n",
      "  ✓ No nulls\n",
      "\n",
      "REGION (5 rows):\n",
      "  ✓ No nulls\n",
      "\n",
      "CUSTOMER (150,000 rows):\n",
      "  ✓ No nulls\n",
      "\n",
      "ORDERS (1,500,000 rows):\n",
      "  ✓ No nulls\n",
      "\n",
      "LINEITEM (2,500,000 rows):\n",
      "  ✓ No nulls\n",
      "\n",
      "PART (200,000 rows):\n",
      "  ✓ No nulls\n",
      "\n",
      "PARTSUPP (800,000 rows):\n",
      "  ✓ No nulls\n",
      "\n",
      "SUPPLIER (10,000 rows):\n",
      "  ✓ No nulls\n"
     ]
    }
   ],
   "source": [
    "# Check nulls for all tables\n",
    "from pyspark.sql.functions import col, sum as spark_sum\n",
    "\n",
    "tables = ['nation', 'region', 'customer', 'orders', 'lineitem', 'part', 'partsupp', 'supplier']\n",
    "\n",
    "for table in tables:\n",
    "   df = spark.read.parquet(f\"s3a://bronze/{table}\")\n",
    "   \n",
    "   # Count nulls per column\n",
    "   null_counts = []\n",
    "   for column in df.columns:\n",
    "       null_count = df.filter(col(column).isNull()).count()\n",
    "       if null_count > 0:\n",
    "           null_counts.append(f\"{column}: {null_count}\")\n",
    "   \n",
    "   # Print results\n",
    "   print(f\"\\n{table.upper()} ({df.count():,} rows):\")\n",
    "   if null_counts:\n",
    "       for nc in null_counts:\n",
    "           print(f\"  {nc}\")\n",
    "   else:\n",
    "       print(\"  ✓ No nulls\")"
   ]
  },
  {
   "cell_type": "code",
   "execution_count": null,
   "id": "3a3b6141-10ad-4ebc-8a86-dc032dcf6564",
   "metadata": {},
   "outputs": [],
   "source": []
  }
 ],
 "metadata": {
  "kernelspec": {
   "display_name": "venv",
   "language": "python",
   "name": "python3"
  },
  "language_info": {
   "codemirror_mode": {
    "name": "ipython",
    "version": 3
   },
   "file_extension": ".py",
   "mimetype": "text/x-python",
   "name": "python",
   "nbconvert_exporter": "python",
   "pygments_lexer": "ipython3",
   "version": "3.12.3"
  }
 },
 "nbformat": 4,
 "nbformat_minor": 5
}
